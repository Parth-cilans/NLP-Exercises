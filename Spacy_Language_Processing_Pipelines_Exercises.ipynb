{
  "nbformat": 4,
  "nbformat_minor": 0,
  "metadata": {
    "colab": {
      "provenance": []
    },
    "kernelspec": {
      "name": "python3",
      "display_name": "Python 3"
    },
    "language_info": {
      "name": "python"
    }
  },
  "cells": [
    {
      "cell_type": "code",
      "execution_count": 11,
      "metadata": {
        "id": "2AYoCVYZm_H9"
      },
      "outputs": [],
      "source": [
        "import spacy\n",
        "nlp=spacy.load('en_core_web_sm')"
      ]
    },
    {
      "cell_type": "markdown",
      "source": [
        "Get all the proper nouns from a given text in a list and also count how many of them."
      ],
      "metadata": {
        "id": "eGPOSwNxn3xQ"
      }
    },
    {
      "cell_type": "code",
      "source": [
        "text = '''Ravi and Raju are the best friends from school days.They wanted to go for a world tour and \n",
        "visit famous cities like Paris, London, Dubai, Rome etc and also they called their another friend Mohan to take part of this world tour.\n",
        "They started their journey from Hyderabad and spent next 3 months travelling all the wonderful cities in the world and cherish a happy moments!\n",
        "'''\n"
      ],
      "metadata": {
        "id": "gpqw5H7snCTx"
      },
      "execution_count": 12,
      "outputs": []
    },
    {
      "cell_type": "code",
      "source": [
        "doc = nlp(text)"
      ],
      "metadata": {
        "id": "6140c0o1n96g"
      },
      "execution_count": 13,
      "outputs": []
    },
    {
      "cell_type": "code",
      "source": [
        "all_proper_noun=[]"
      ],
      "metadata": {
        "id": "qne5Y5VJoWBQ"
      },
      "execution_count": 15,
      "outputs": []
    },
    {
      "cell_type": "code",
      "source": [
        "for token in doc:\n",
        "    if token.pos_ == 'PROPN':\n",
        "        all_proper_noun.append(token)"
      ],
      "metadata": {
        "id": "us-jEHBRo31y"
      },
      "execution_count": 28,
      "outputs": []
    },
    {
      "cell_type": "code",
      "source": [
        "print('Proper_nouns:' , all_proper_noun)\n",
        "print('count:' ,len(all_proper_noun))"
      ],
      "metadata": {
        "colab": {
          "base_uri": "https://localhost:8080/"
        },
        "id": "5XW1GRb-pZag",
        "outputId": "b29dfbe5-406c-40c5-f583-db3e7a9d3275"
      },
      "execution_count": 29,
      "outputs": [
        {
          "output_type": "stream",
          "name": "stdout",
          "text": [
            "Proper_nouns: [Raju, Paris, London, Dubai, Rome, Mohan, Hyderabad]\n",
            "count: 7\n"
          ]
        }
      ]
    },
    {
      "cell_type": "markdown",
      "source": [
        "Get all companies names from a given text and also the count of them."
      ],
      "metadata": {
        "id": "U5QWBqt3rAXf"
      }
    },
    {
      "cell_type": "code",
      "source": [
        "text = '''The Top 5 companies in USA are Tesla, Walmart, Amazon, Microsoft, Google and the top 5 companies in \n",
        "India are Infosys, Reliance, HDFC Bank, Hindustan Unilever and Bharti Airtel'''\n",
        "\n",
        "doc=nlp(text\n",
        "      )"
      ],
      "metadata": {
        "id": "7qhMAkbipo85"
      },
      "execution_count": 30,
      "outputs": []
    },
    {
      "cell_type": "code",
      "source": [
        "all_company_names=[]\n",
        "for ent in doc.ents:\n",
        "    if ent.label_==\"ORG\":\n",
        "      all_company_names.append(ent)"
      ],
      "metadata": {
        "id": "dx2wHeKFrKzL"
      },
      "execution_count": 39,
      "outputs": []
    },
    {
      "cell_type": "code",
      "source": [
        "print('Company_Names :',all_company_names)\n",
        "print('coount:' , len(all_company_names))"
      ],
      "metadata": {
        "colab": {
          "base_uri": "https://localhost:8080/"
        },
        "id": "9EtQTT8Fr0CO",
        "outputId": "6643f033-7162-4bd0-da6f-f6b7d493f720"
      },
      "execution_count": 41,
      "outputs": [
        {
          "output_type": "stream",
          "name": "stdout",
          "text": [
            "Company_Names : [Tesla, Walmart, Amazon, Microsoft, Google, Infosys, Reliance, HDFC Bank, Hindustan Unilever, Bharti]\n",
            "coount: 10\n"
          ]
        }
      ]
    }
  ]
}